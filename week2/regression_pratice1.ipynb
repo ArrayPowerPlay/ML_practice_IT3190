{
 "cells": [
  {
   "cell_type": "markdown",
   "id": "b4e2ad49",
   "metadata": {},
   "source": [
    "**PRACTICE EXERCISE 1**\n"
   ]
  },
  {
   "cell_type": "markdown",
   "id": "0e901e19",
   "metadata": {},
   "source": [
    "**1. PROBLEM**"
   ]
  },
  {
   "cell_type": "markdown",
   "id": "5002221c",
   "metadata": {},
   "source": [
    "Predicting the progression of diabetes through physiological indicators of the body"
   ]
  },
  {
   "cell_type": "markdown",
   "id": "ca9bedf5",
   "metadata": {},
   "source": [
    "**Dataset information:**\n",
    "- Number of examples: 442 (information of 442 patients)\n",
    "- Number of features: 10 (Age, Sex, BMI, Average Blood Pressure, S1, S2, S3, S4, S5, S6 (six other serum measurements))\n",
    "- Target: column 11 - evaluate health progression after 1 year of treatment."
   ]
  },
  {
   "cell_type": "markdown",
   "id": "6fd43aab",
   "metadata": {},
   "source": [
    "**NOTE**: All data have been normalized before"
   ]
  },
  {
   "cell_type": "markdown",
   "id": "1de8e223",
   "metadata": {},
   "source": [
    "**2. SOLUTION**"
   ]
  },
  {
   "cell_type": "markdown",
   "id": "573be071",
   "metadata": {},
   "source": [
    "**Using regression model**"
   ]
  },
  {
   "cell_type": "markdown",
   "id": "58abdff9",
   "metadata": {},
   "source": [
    "2.1. Import necessary libraries"
   ]
  },
  {
   "cell_type": "code",
   "execution_count": 1,
   "id": "2896b2c5",
   "metadata": {},
   "outputs": [],
   "source": [
    "import matplotlib.pyplot as plt\n",
    "import numpy as np\n",
    "import pandas as pd\n",
    "import math\n",
    "\n",
    "from sklearn import datasets, linear_model\n",
    "from sklearn.metrics import mean_squared_error, r2_score\n",
    "\n",
    "%matplotlib inline"
   ]
  },
  {
   "cell_type": "markdown",
   "id": "b454936f",
   "metadata": {},
   "source": [
    "2.2. Read data\n",
    "\n",
    "The received data is in the form of an object with the following attributes:\n",
    "- Data: 2-dimensional matrix (442x10) - Patient information is normalized to real numbers\n",
    "- Target: array of real numbers (442,) - Health progression index"
   ]
  },
  {
   "cell_type": "code",
   "execution_count": 2,
   "id": "0bda9c02",
   "metadata": {},
   "outputs": [
    {
     "name": "stdout",
     "output_type": "stream",
     "text": [
      "Số chiều dữ liệu input:\n",
      " (442, 10)\n",
      "Kiểu dữ liệu input:\n",
      " <class 'module'>\n",
      "Số chiều dữ liệu target:\n",
      " (442,)\n",
      "Kiểu dữ liệu target:\n",
      " <class 'numpy.ndarray'>\n",
      "5 mẫu dữ liệu đầu tiên:\n",
      "Input:\n",
      " [[ 0.03807591  0.05068012  0.06169621  0.02187239 -0.0442235  -0.03482076\n",
      "  -0.04340085 -0.00259226  0.01990749 -0.01764613]\n",
      " [-0.00188202 -0.04464164 -0.05147406 -0.02632753 -0.00844872 -0.01916334\n",
      "   0.07441156 -0.03949338 -0.06833155 -0.09220405]\n",
      " [ 0.08529891  0.05068012  0.04445121 -0.00567042 -0.04559945 -0.03419447\n",
      "  -0.03235593 -0.00259226  0.00286131 -0.02593034]\n",
      " [-0.08906294 -0.04464164 -0.01159501 -0.03665608  0.01219057  0.02499059\n",
      "  -0.03603757  0.03430886  0.02268774 -0.00936191]\n",
      " [ 0.00538306 -0.04464164 -0.03638469  0.02187239  0.00393485  0.01559614\n",
      "   0.00814208 -0.00259226 -0.03198764 -0.04664087]]\n",
      "Output:\n",
      " [151.  75. 141. 206. 135.]\n"
     ]
    }
   ],
   "source": [
    "# load data of diabetes dataset\n",
    "diabetes = datasets.load_diabetes()\n",
    "# data exploration\n",
    "print(\"Số chiều dữ liệu input:\\n\", diabetes.data.shape)\n",
    "print(\"Kiểu dữ liệu input:\\n\", type(datasets.data))\n",
    "print(\"Số chiều dữ liệu target:\\n\", diabetes.target.shape)\n",
    "print(\"Kiểu dữ liệu target:\\n\", type(diabetes.target))\n",
    "\n",
    "print(\"5 mẫu dữ liệu đầu tiên:\")\n",
    "print(\"Input:\\n\", diabetes.data[:5])\n",
    "print(\"Output:\\n\", diabetes.target[:5])"
   ]
  },
  {
   "cell_type": "markdown",
   "id": "eb2b801a",
   "metadata": {},
   "source": [
    "Separate data into training set and test set"
   ]
  },
  {
   "cell_type": "code",
   "execution_count": 3,
   "id": "2ea4671e",
   "metadata": {},
   "outputs": [],
   "source": [
    "# training: 362 examples\n",
    "# test: 80 examples\n",
    "X = diabetes.data\n",
    "y = diabetes.target\n",
    "indices = np.arange(X.shape[0])\n",
    "np.random.shuffle(indices)\n",
    "\n",
    "X = X[indices]\n",
    "y = y[indices]\n",
    "\n",
    "Xtrain = X[:362]\n",
    "ytrain = y[:362]\n",
    "\n",
    "Xtest = X[362:]\n",
    "ytest = y[362:]"
   ]
  },
  {
   "cell_type": "markdown",
   "id": "f7f0a722",
   "metadata": {},
   "source": [
    "Build regression model using sklearn"
   ]
  },
  {
   "cell_type": "code",
   "execution_count": 4,
   "id": "39e5b9e4",
   "metadata": {},
   "outputs": [],
   "source": [
    "# setting model with alpha=0.1\n",
    "regr = linear_model.Ridge(alpha=0.1)"
   ]
  },
  {
   "cell_type": "markdown",
   "id": "0ee01119",
   "metadata": {},
   "source": [
    "2.3. Training model"
   ]
  },
  {
   "cell_type": "code",
   "execution_count": 5,
   "id": "b86c8be9",
   "metadata": {},
   "outputs": [
    {
     "name": "stdout",
     "output_type": "stream",
     "text": [
      "Tham số mô hình tìm được:\n",
      "[  -1.6266335  -223.70231255  529.5367731   262.62304884  -62.86661336\n",
      "  -51.53572137 -181.06205021  178.75954262  366.1463815   106.26963151]\n",
      "153.54658665790166\n"
     ]
    }
   ],
   "source": [
    "regr.fit(Xtrain, ytrain)\n",
    "print(\"Tham số mô hình tìm được:\")\n",
    "w = regr.coef_\n",
    "b = regr.intercept_\n",
    "print(w)\n",
    "print(b)\n",
    "\n",
    "# predict result by model\n",
    "y_pred = regr.predict(Xtest)"
   ]
  },
  {
   "cell_type": "markdown",
   "id": "2a12cd70",
   "metadata": {},
   "source": [
    "Predict for the first observation"
   ]
  },
  {
   "cell_type": "code",
   "execution_count": 6,
   "id": "3d79ecc4",
   "metadata": {},
   "outputs": [
    {
     "name": "stdout",
     "output_type": "stream",
     "text": [
      "Giá trị dự đoán cho trường hợp đầu tiên:\n",
      "117.93063011041755\n",
      "Giá trị thư viện cho trường hợp đầu tiên:\n",
      "53.0\n",
      "Giá trị dự đoán của model cho trường hợp đầu tiên:\n",
      "117.93063011041754\n"
     ]
    }
   ],
   "source": [
    "y_pred_first = np.dot(w, Xtest[0]) + b\n",
    "print(\"Giá trị dự đoán cho trường hợp đầu tiên:\")\n",
    "print(y_pred_first)\n",
    "print(\"Giá trị thư viện cho trường hợp đầu tiên:\")\n",
    "print(ytest[0])\n",
    "# predict the first observation using model's prediction function\n",
    "print(\"Giá trị dự đoán của model cho trường hợp đầu tiên:\")\n",
    "print(y_pred[0])"
   ]
  },
  {
   "cell_type": "markdown",
   "id": "0a91a39d",
   "metadata": {},
   "source": [
    "2.4. Evaluate model"
   ]
  },
  {
   "cell_type": "code",
   "execution_count": 7,
   "id": "36acfbb5",
   "metadata": {},
   "outputs": [
    {
     "data": {
      "text/html": [
       "<div>\n",
       "<style scoped>\n",
       "    .dataframe tbody tr th:only-of-type {\n",
       "        vertical-align: middle;\n",
       "    }\n",
       "\n",
       "    .dataframe tbody tr th {\n",
       "        vertical-align: top;\n",
       "    }\n",
       "\n",
       "    .dataframe thead th {\n",
       "        text-align: right;\n",
       "    }\n",
       "</style>\n",
       "<table border=\"1\" class=\"dataframe\">\n",
       "  <thead>\n",
       "    <tr style=\"text-align: right;\">\n",
       "      <th></th>\n",
       "      <th>Thực tế</th>\n",
       "      <th>Dự đoán</th>\n",
       "      <th>Lệch</th>\n",
       "    </tr>\n",
       "  </thead>\n",
       "  <tbody>\n",
       "    <tr>\n",
       "      <th>0</th>\n",
       "      <td>53.0</td>\n",
       "      <td>117.930630</td>\n",
       "      <td>64.930630</td>\n",
       "    </tr>\n",
       "    <tr>\n",
       "      <th>1</th>\n",
       "      <td>310.0</td>\n",
       "      <td>257.458482</td>\n",
       "      <td>52.541518</td>\n",
       "    </tr>\n",
       "    <tr>\n",
       "      <th>2</th>\n",
       "      <td>195.0</td>\n",
       "      <td>223.902128</td>\n",
       "      <td>28.902128</td>\n",
       "    </tr>\n",
       "    <tr>\n",
       "      <th>3</th>\n",
       "      <td>84.0</td>\n",
       "      <td>198.294349</td>\n",
       "      <td>114.294349</td>\n",
       "    </tr>\n",
       "    <tr>\n",
       "      <th>4</th>\n",
       "      <td>131.0</td>\n",
       "      <td>174.590976</td>\n",
       "      <td>43.590976</td>\n",
       "    </tr>\n",
       "    <tr>\n",
       "      <th>...</th>\n",
       "      <td>...</td>\n",
       "      <td>...</td>\n",
       "      <td>...</td>\n",
       "    </tr>\n",
       "    <tr>\n",
       "      <th>75</th>\n",
       "      <td>137.0</td>\n",
       "      <td>91.825023</td>\n",
       "      <td>45.174977</td>\n",
       "    </tr>\n",
       "    <tr>\n",
       "      <th>76</th>\n",
       "      <td>245.0</td>\n",
       "      <td>268.944328</td>\n",
       "      <td>23.944328</td>\n",
       "    </tr>\n",
       "    <tr>\n",
       "      <th>77</th>\n",
       "      <td>178.0</td>\n",
       "      <td>119.164677</td>\n",
       "      <td>58.835323</td>\n",
       "    </tr>\n",
       "    <tr>\n",
       "      <th>78</th>\n",
       "      <td>190.0</td>\n",
       "      <td>134.024992</td>\n",
       "      <td>55.975008</td>\n",
       "    </tr>\n",
       "    <tr>\n",
       "      <th>79</th>\n",
       "      <td>128.0</td>\n",
       "      <td>229.165109</td>\n",
       "      <td>101.165109</td>\n",
       "    </tr>\n",
       "  </tbody>\n",
       "</table>\n",
       "<p>80 rows × 3 columns</p>\n",
       "</div>"
      ],
      "text/plain": [
       "    Thực tế     Dự đoán        Lệch\n",
       "0      53.0  117.930630   64.930630\n",
       "1     310.0  257.458482   52.541518\n",
       "2     195.0  223.902128   28.902128\n",
       "3      84.0  198.294349  114.294349\n",
       "4     131.0  174.590976   43.590976\n",
       "..      ...         ...         ...\n",
       "75    137.0   91.825023   45.174977\n",
       "76    245.0  268.944328   23.944328\n",
       "77    178.0  119.164677   58.835323\n",
       "78    190.0  134.024992   55.975008\n",
       "79    128.0  229.165109  101.165109\n",
       "\n",
       "[80 rows x 3 columns]"
      ]
     },
     "execution_count": 7,
     "metadata": {},
     "output_type": "execute_result"
    }
   ],
   "source": [
    "# save results\n",
    "compare_data = pd.DataFrame(data=np.array([\n",
    "    ytest, y_pred, abs(y_pred - ytest)\n",
    "]).T, columns=[\"Thực tế\", \"Dự đoán\", \"Lệch\"])\n",
    "compare_data"
   ]
  },
  {
   "cell_type": "markdown",
   "id": "f77c7114",
   "metadata": {},
   "source": [
    "Evaluate model with lambda=0.1"
   ]
  },
  {
   "cell_type": "code",
   "execution_count": 8,
   "id": "44b809c9",
   "metadata": {},
   "outputs": [
    {
     "data": {
      "text/plain": [
       "57.519434868879344"
      ]
     },
     "execution_count": 8,
     "metadata": {},
     "output_type": "execute_result"
    }
   ],
   "source": [
    "model_error_first = math.sqrt(mean_squared_error(y_true=ytest, y_pred=y_pred))\n",
    "model_error_first"
   ]
  },
  {
   "cell_type": "markdown",
   "id": "f3b36893",
   "metadata": {},
   "source": [
    "Evaluate multiple model with different lambda"
   ]
  },
  {
   "cell_type": "code",
   "execution_count": 9,
   "id": "1ecc9d2e",
   "metadata": {},
   "outputs": [],
   "source": [
    "_lambda = [0, 0.0001, 0.01, 0.04, 0.05, 0.06, 0.1, 0.5, 1, 5, 10, 20]\n",
    "model_list = []\n",
    "error = []\n",
    "\n",
    "for alpha in _lambda:\n",
    "    model = linear_model.Ridge(alpha)\n",
    "    model_list.append(model)\n",
    "    model.fit(Xtrain, ytrain)\n",
    "    y_pred = model.predict(Xtest)\n",
    "    model_error = math.sqrt(mean_squared_error(y_true=ytest, y_pred=y_pred))\n",
    "    error.append(model_error)"
   ]
  },
  {
   "cell_type": "code",
   "execution_count": 10,
   "id": "a4c45c4c",
   "metadata": {},
   "outputs": [
    {
     "name": "stdout",
     "output_type": "stream",
     "text": [
      "Đánh giá loss của mô hình sử dụng lambda = 0\n",
      "57.571686427199715\n",
      "Đánh giá loss của mô hình sử dụng lambda = 0.0001\n",
      "57.56360233923305\n",
      "Đánh giá loss của mô hình sử dụng lambda = 0.01\n",
      "57.45518866058772\n",
      "Đánh giá loss của mô hình sử dụng lambda = 0.04\n",
      "57.4782369050791\n",
      "Đánh giá loss của mô hình sử dụng lambda = 0.05\n",
      "57.481729913384584\n",
      "Đánh giá loss của mô hình sử dụng lambda = 0.06\n",
      "57.48624839253915\n",
      "Đánh giá loss của mô hình sử dụng lambda = 0.1\n",
      "57.519434868879344\n",
      "Đánh giá loss của mô hình sử dụng lambda = 0.5\n",
      "58.51054420734437\n",
      "Đánh giá loss của mô hình sử dụng lambda = 1\n",
      "59.94728653323853\n",
      "Đánh giá loss của mô hình sử dụng lambda = 5\n",
      "66.54011287092663\n",
      "Đánh giá loss của mô hình sử dụng lambda = 10\n",
      "69.83703413949866\n",
      "Đánh giá loss của mô hình sử dụng lambda = 20\n",
      "72.41139466808288\n"
     ]
    }
   ],
   "source": [
    "for i in range(len(error)):\n",
    "    print(f\"Đánh giá loss của mô hình sử dụng lambda = {_lambda[i]}\")\n",
    "    print(error[i])"
   ]
  },
  {
   "cell_type": "markdown",
   "id": "99548792",
   "metadata": {},
   "source": [
    "Choose the best model"
   ]
  },
  {
   "cell_type": "code",
   "execution_count": 11,
   "id": "80fcfe75",
   "metadata": {},
   "outputs": [
    {
     "name": "stdout",
     "output_type": "stream",
     "text": [
      "\n",
      "Giá trị lamba tốt nhất: lambda =  0.01\n"
     ]
    }
   ],
   "source": [
    "final_model = model_list[np.argmin(error)]\n",
    "final_lamba = _lambda[np.argmin(error)]\n",
    "print()\n",
    "print(\"Giá trị lamba tốt nhất: lambda = \", final_lamba)\n",
    "# prediction of the best model\n",
    "y_pred_final = final_model.predict(Xtest)"
   ]
  },
  {
   "cell_type": "markdown",
   "id": "5a9fe0fa",
   "metadata": {},
   "source": [
    "2.5. Plot the distribution chart for the result predicted by the linear regression model"
   ]
  },
  {
   "cell_type": "code",
   "execution_count": 12,
   "id": "0a8e5264",
   "metadata": {},
   "outputs": [
    {
     "name": "stdout",
     "output_type": "stream",
     "text": [
      "     Predicted\n",
      "0   114.728909\n",
      "1   259.669675\n",
      "2   230.337315\n",
      "3   196.417306\n",
      "4   171.156493\n",
      "..         ...\n",
      "75   91.031741\n",
      "76  264.306629\n",
      "77  117.336781\n",
      "78  137.800616\n",
      "79  235.736073\n",
      "\n",
      "[80 rows x 1 columns]\n",
      "\n",
      "        Predicted\n",
      "count   80.000000\n",
      "mean   151.035137\n",
      "std     54.292959\n",
      "min     52.193878\n",
      "25%    105.870736\n",
      "50%    146.821890\n",
      "75%    191.571103\n",
      "max    264.306629\n"
     ]
    }
   ],
   "source": [
    "import seaborn as sns\n",
    "\n",
    "# examine data\n",
    "df_pred = pd.DataFrame({'Predicted': y_pred_final})\n",
    "print(df_pred)\n",
    "print()\n",
    "print(df_pred.describe())"
   ]
  },
  {
   "cell_type": "code",
   "execution_count": 17,
   "id": "2d7e9e71",
   "metadata": {},
   "outputs": [
    {
     "data": {
      "image/png": "[encoded data removed]",
      "text/plain": [
       "<Figure size 800x600 with 1 Axes>"
      ]
     },
     "metadata": {},
     "output_type": "display_data"
    }
   ],
   "source": [
    "plt.figure(figsize=(8, 6))\n",
    "# kde=True means show additional “density estimate” curve on the histogram\n",
    "sns.histplot(df_pred['Predicted'], kde=True, color='skyblue')\n",
    "plt.xlabel('Giá trị dự đoán')\n",
    "plt.ylabel('Tần suất')\n",
    "plt.savefig('density_prediction.png')"
   ]
  },
  {
   "cell_type": "code",
   "execution_count": null,
   "id": "85e6b989",
   "metadata": {},
   "outputs": [],
   "source": []
  }
 ],
 "metadata": {
  "kernelspec": {
   "display_name": "course",
   "language": "python",
   "name": "python3"
  },
  "language_info": {
   "codemirror_mode": {
    "name": "ipython",
    "version": 3
   },
   "file_extension": ".py",
   "mimetype": "text/x-python",
   "name": "python",
   "nbconvert_exporter": "python",
   "pygments_lexer": "ipython3",
   "version": "3.11.13"
  }
 },
 "nbformat": 4,
 "nbformat_minor": 5
}
