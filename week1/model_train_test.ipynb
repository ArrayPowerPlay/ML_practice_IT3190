{
 "cells": [
  {
   "cell_type": "markdown",
   "id": "1428ab15",
   "metadata": {},
   "source": [
    "**1. HOUSE PRICE PREDICTION**"
   ]
  },
  {
   "cell_type": "markdown",
   "id": "d493d59c",
   "metadata": {},
   "source": [
    "In this notebook, we will learn how to use available data to build a predictive model\n",
    "(house price prediction).\n",
    "\n",
    "- How to build/initialize the model?\n",
    "- Feed data to train the model?\n",
    "- Use the trained model to predict?"
   ]
  },
  {
   "cell_type": "markdown",
   "id": "eac6bb92",
   "metadata": {},
   "source": [
    "**2. Step by step implementation**"
   ]
  },
  {
   "cell_type": "markdown",
   "id": "78934efd",
   "metadata": {},
   "source": [
    "2.1. Load dataset"
   ]
  },
  {
   "cell_type": "markdown",
   "id": "1baec908",
   "metadata": {},
   "source": [
    "Import necessary libraries"
   ]
  },
  {
   "cell_type": "code",
   "execution_count": 1,
   "id": "1e6bfc71",
   "metadata": {},
   "outputs": [],
   "source": [
    "import numpy as np \n",
    "import pandas as pd \n",
    "import matplotlib.pyplot as plt \n",
    "import seaborn as sns\n",
    "\n",
    "%matplotlib inline"
   ]
  },
  {
   "cell_type": "code",
   "execution_count": 2,
   "id": "6902a202",
   "metadata": {},
   "outputs": [],
   "source": [
    "pd.set_option(\"display.max_columns\", None)\n",
    "pd.set_option(\"display.max_rows\", None)"
   ]
  },
  {
   "cell_type": "code",
   "execution_count": 3,
   "id": "627afe6c",
   "metadata": {},
   "outputs": [
    {
     "data": {
      "text/plain": [
       "(7120, 6)"
      ]
     },
     "execution_count": 3,
     "metadata": {},
     "output_type": "execute_result"
    }
   ],
   "source": [
    "path = 'clean_data.csv'\n",
    "df = pd.read_csv(path)\n",
    "df.shape"
   ]
  },
  {
   "cell_type": "code",
   "execution_count": 4,
   "id": "375dd935",
   "metadata": {},
   "outputs": [
    {
     "data": {
      "text/html": [
       "<div>\n",
       "<style scoped>\n",
       "    .dataframe tbody tr th:only-of-type {\n",
       "        vertical-align: middle;\n",
       "    }\n",
       "\n",
       "    .dataframe tbody tr th {\n",
       "        vertical-align: top;\n",
       "    }\n",
       "\n",
       "    .dataframe thead th {\n",
       "        text-align: right;\n",
       "    }\n",
       "</style>\n",
       "<table border=\"1\" class=\"dataframe\">\n",
       "  <thead>\n",
       "    <tr style=\"text-align: right;\">\n",
       "      <th></th>\n",
       "      <th>bath</th>\n",
       "      <th>balcony</th>\n",
       "      <th>price</th>\n",
       "      <th>total_sqft_float</th>\n",
       "      <th>bhk</th>\n",
       "      <th>price_per_sqft</th>\n",
       "    </tr>\n",
       "  </thead>\n",
       "  <tbody>\n",
       "    <tr>\n",
       "      <th>0</th>\n",
       "      <td>3.0</td>\n",
       "      <td>2.0</td>\n",
       "      <td>150.0</td>\n",
       "      <td>1672.0</td>\n",
       "      <td>3</td>\n",
       "      <td>8971.291866</td>\n",
       "    </tr>\n",
       "    <tr>\n",
       "      <th>1</th>\n",
       "      <td>3.0</td>\n",
       "      <td>3.0</td>\n",
       "      <td>149.0</td>\n",
       "      <td>1750.0</td>\n",
       "      <td>3</td>\n",
       "      <td>8514.285714</td>\n",
       "    </tr>\n",
       "    <tr>\n",
       "      <th>2</th>\n",
       "      <td>3.0</td>\n",
       "      <td>2.0</td>\n",
       "      <td>150.0</td>\n",
       "      <td>1750.0</td>\n",
       "      <td>3</td>\n",
       "      <td>8571.428571</td>\n",
       "    </tr>\n",
       "    <tr>\n",
       "      <th>3</th>\n",
       "      <td>2.0</td>\n",
       "      <td>2.0</td>\n",
       "      <td>40.0</td>\n",
       "      <td>1250.0</td>\n",
       "      <td>2</td>\n",
       "      <td>3200.000000</td>\n",
       "    </tr>\n",
       "    <tr>\n",
       "      <th>4</th>\n",
       "      <td>2.0</td>\n",
       "      <td>2.0</td>\n",
       "      <td>83.0</td>\n",
       "      <td>1200.0</td>\n",
       "      <td>2</td>\n",
       "      <td>6916.666667</td>\n",
       "    </tr>\n",
       "  </tbody>\n",
       "</table>\n",
       "</div>"
      ],
      "text/plain": [
       "   bath  balcony  price  total_sqft_float  bhk  price_per_sqft\n",
       "0   3.0      2.0  150.0            1672.0    3     8971.291866\n",
       "1   3.0      3.0  149.0            1750.0    3     8514.285714\n",
       "2   3.0      2.0  150.0            1750.0    3     8571.428571\n",
       "3   2.0      2.0   40.0            1250.0    2     3200.000000\n",
       "4   2.0      2.0   83.0            1200.0    2     6916.666667"
      ]
     },
     "execution_count": 4,
     "metadata": {},
     "output_type": "execute_result"
    }
   ],
   "source": [
    "df.head()"
   ]
  },
  {
   "cell_type": "markdown",
   "id": "eff1a46e",
   "metadata": {},
   "source": [
    "2.2. Split dataset"
   ]
  },
  {
   "cell_type": "code",
   "execution_count": 5,
   "id": "5a79aeaf",
   "metadata": {},
   "outputs": [
    {
     "data": {
      "text/plain": [
       "((7120, 5), (7120,))"
      ]
     },
     "execution_count": 5,
     "metadata": {},
     "output_type": "execute_result"
    }
   ],
   "source": [
    "X = df.drop(columns='price')\n",
    "y = df['price']\n",
    "X.shape, y.shape"
   ]
  },
  {
   "cell_type": "code",
   "execution_count": 6,
   "id": "840ae2f2",
   "metadata": {},
   "outputs": [
    {
     "name": "stdout",
     "output_type": "stream",
     "text": [
      "Shape of input training set: (5696, 5)\n",
      "Shape of output training set: (5696,)\n",
      "Shape of input test set: (1424, 5)\n",
      "Shape of output test set: (1424,)\n"
     ]
    }
   ],
   "source": [
    "from sklearn.model_selection import train_test_split\n",
    "\n",
    "X_train, X_test, y_train, y_test = train_test_split(X, y, test_size=.2, random_state=42)\n",
    "print(\"Shape of input training set:\", X_train.shape)\n",
    "print(\"Shape of output training set:\", y_train.shape)\n",
    "print(\"Shape of input test set:\", X_test.shape)\n",
    "print(\"Shape of output test set:\", y_test.shape)"
   ]
  },
  {
   "cell_type": "markdown",
   "id": "3da8f7aa",
   "metadata": {},
   "source": [
    "2.3. Feature Scaling"
   ]
  },
  {
   "cell_type": "markdown",
   "id": "95dffef4",
   "metadata": {},
   "source": [
    "If feature scaling is not done, then a machine learning algorithm tends to weigh greater\n",
    "values, higher and consider smaller values as the lower values, regardless of the unit of\n",
    "the values"
   ]
  },
  {
   "cell_type": "code",
   "execution_count": 7,
   "id": "c9b1282a",
   "metadata": {},
   "outputs": [],
   "source": [
    "from sklearn.preprocessing import StandardScaler\n",
    "\n",
    "scaler = StandardScaler()\n",
    "\n",
    "scaler.fit(X_train)\n",
    "X_train = scaler.transform(X_train)\n",
    "X_test = scaler.transform(X_test)"
   ]
  },
  {
   "cell_type": "markdown",
   "id": "8ac7aae7",
   "metadata": {},
   "source": [
    "2.4. Build regression model"
   ]
  },
  {
   "cell_type": "markdown",
   "id": "1244e117",
   "metadata": {},
   "source": [
    "2.4.1. Linear regression"
   ]
  },
  {
   "cell_type": "code",
   "execution_count": 8,
   "id": "c7df4326",
   "metadata": {},
   "outputs": [],
   "source": [
    "from sklearn.linear_model import LinearRegression\n",
    "from sklearn.linear_model import Lasso\n",
    "from sklearn.linear_model import Ridge\n",
    "from sklearn.metrics import mean_squared_error\n",
    "\n",
    "lr = LinearRegression()"
   ]
  },
  {
   "cell_type": "code",
   "execution_count": 9,
   "id": "49dbeb4d",
   "metadata": {},
   "outputs": [],
   "source": [
    "def rmse(y_true, y_pred):\n",
    "    return np.sqrt(mean_squared_error(y_true=y_true, y_pred=y_pred))"
   ]
  },
  {
   "cell_type": "markdown",
   "id": "4765e870",
   "metadata": {},
   "source": [
    "Linear model"
   ]
  },
  {
   "cell_type": "code",
   "execution_count": 10,
   "id": "6c02ce94",
   "metadata": {},
   "outputs": [
    {
     "name": "stdout",
     "output_type": "stream",
     "text": [
      "32.89717191486189\n"
     ]
    }
   ],
   "source": [
    "lr.fit(X_train, y_train)\n",
    "y_pred_lr = lr.predict(X_test)\n",
    "\n",
    "print(rmse(y_test, y_pred_lr))"
   ]
  },
  {
   "cell_type": "markdown",
   "id": "3ff314a4",
   "metadata": {},
   "source": [
    "Lasso model"
   ]
  },
  {
   "cell_type": "code",
   "execution_count": 11,
   "id": "fbe3bbc3",
   "metadata": {},
   "outputs": [
    {
     "name": "stdout",
     "output_type": "stream",
     "text": [
      "Minimum loss of Lasso regression:\n",
      "32.89910777134902\n",
      "Best lambda:  0.01\n"
     ]
    }
   ],
   "source": [
    "lambda_ = [0.01, 0.05, 0.075, 0.1, 0.25, 0.5]\n",
    "error_lasso = []\n",
    "\n",
    "for alpha in lambda_:\n",
    "    lr_lasso = Lasso(alpha=alpha)\n",
    "    lr_lasso.fit(X_train, y_train)\n",
    "    y_pred_lasso = lr_lasso.predict(X_test)\n",
    "    error_lasso.append(rmse(y_test, y_pred_lasso))\n",
    "\n",
    "i = np.argmin(error_lasso)\n",
    "print(\"Minimum loss of Lasso regression:\")\n",
    "print(np.min(error_lasso))\n",
    "print(\"Best lambda: \", lambda_[i])"
   ]
  },
  {
   "cell_type": "markdown",
   "id": "d58d3a84",
   "metadata": {},
   "source": [
    "Ridge model"
   ]
  },
  {
   "cell_type": "code",
   "execution_count": 12,
   "id": "437a20a2",
   "metadata": {},
   "outputs": [
    {
     "name": "stdout",
     "output_type": "stream",
     "text": [
      "Minimum loss of Ridge regression:\n",
      "32.89719109092792\n",
      "Best lambda:  0.01\n"
     ]
    }
   ],
   "source": [
    "error_ridge = []\n",
    "\n",
    "for alpha in lambda_:\n",
    "    lr_ridge = Ridge(alpha=alpha)\n",
    "    lr_ridge.fit(X_train, y_train)\n",
    "    y_pred_ridge = lr_ridge.predict(X_test)\n",
    "    error_ridge.append(rmse(y_test, y_pred_ridge))\n",
    "\n",
    "i = np.argmin(error_ridge)\n",
    "print(\"Minimum loss of Ridge regression:\")\n",
    "print(np.min(error_ridge))\n",
    "print(\"Best lambda: \", lambda_[i])"
   ]
  },
  {
   "cell_type": "markdown",
   "id": "102fc45a",
   "metadata": {},
   "source": [
    "2.4.2. Support Vector Machine (SVM)"
   ]
  },
  {
   "cell_type": "code",
   "execution_count": 13,
   "id": "0386c92b",
   "metadata": {},
   "outputs": [
    {
     "name": "stdout",
     "output_type": "stream",
     "text": [
      "0.9817439476705249\n",
      "14.396655658930486\n"
     ]
    }
   ],
   "source": [
    "from sklearn.svm import SVR\n",
    "\n",
    "svr = SVR(kernel='rbf', C=1000)\n",
    "svr.fit(X_train, y_train)\n",
    "# R2 score\n",
    "svr_score = svr.score(X_test, y_test)\n",
    "svr_rmse = rmse(y_true=y_test, y_pred=svr.predict(X_test))\n",
    "\n",
    "print(svr_score)\n",
    "print(svr_rmse)"
   ]
  },
  {
   "cell_type": "markdown",
   "id": "85c00db6",
   "metadata": {},
   "source": [
    "2.4.3. Random Forest"
   ]
  },
  {
   "cell_type": "code",
   "execution_count": 14,
   "id": "f1bf1b67",
   "metadata": {},
   "outputs": [
    {
     "name": "stderr",
     "output_type": "stream",
     "text": [
      "[Parallel(n_jobs=1)]: Done  49 tasks      | elapsed:    0.9s\n"
     ]
    },
    {
     "name": "stdout",
     "output_type": "stream",
     "text": [
      "0.9651759807060099\n",
      "19.88371953505962\n"
     ]
    },
    {
     "name": "stderr",
     "output_type": "stream",
     "text": [
      "[Parallel(n_jobs=1)]: Done 100 out of 100 | elapsed:    1.9s finished\n",
      "[Parallel(n_jobs=1)]: Done  49 tasks      | elapsed:    0.0s\n",
      "[Parallel(n_jobs=1)]: Done 100 out of 100 | elapsed:    0.0s finished\n",
      "[Parallel(n_jobs=1)]: Done  49 tasks      | elapsed:    0.0s\n",
      "[Parallel(n_jobs=1)]: Done 100 out of 100 | elapsed:    0.0s finished\n"
     ]
    }
   ],
   "source": [
    "from sklearn.ensemble import RandomForestRegressor\n",
    "rfr = RandomForestRegressor(n_estimators=100, verbose=1)\n",
    "rfr.fit(X_train, y_train)\n",
    "rfr_score = rfr.score(X_test, y_test)\n",
    "rfr_rmse = rmse(y_true=y_test, y_pred=rfr.predict(X_test))\n",
    "print(rfr_score)\n",
    "print(rfr_rmse)\n"
   ]
  },
  {
   "cell_type": "markdown",
   "id": "a57f029d",
   "metadata": {},
   "source": [
    "2.5. Save and load model"
   ]
  },
  {
   "cell_type": "code",
   "execution_count": 44,
   "id": "e33625e2",
   "metadata": {},
   "outputs": [
    {
     "data": {
      "text/plain": [
       "['bangalore_house_price_prediction_model.pkl']"
      ]
     },
     "execution_count": 44,
     "metadata": {},
     "output_type": "execute_result"
    }
   ],
   "source": [
    "import joblib\n",
    "\n",
    "joblib.dump(svr, 'bangalore_house_price_prediction_model.pkl')"
   ]
  },
  {
   "cell_type": "code",
   "execution_count": 45,
   "id": "a5287e33",
   "metadata": {},
   "outputs": [],
   "source": [
    "bangalore_house_price_prediction_model = joblib.load('bangalore_house_price_prediction_model.pkl')"
   ]
  },
  {
   "cell_type": "code",
   "execution_count": 47,
   "id": "8126d375",
   "metadata": {},
   "outputs": [
    {
     "data": {
      "text/plain": [
       "np.float64(14.396655658930486)"
      ]
     },
     "execution_count": 47,
     "metadata": {},
     "output_type": "execute_result"
    }
   ],
   "source": [
    "y_pred_model = bangalore_house_price_prediction_model.predict(X_test)\n",
    "rmse(y_true=y_test, y_pred=y_pred_model)"
   ]
  },
  {
   "cell_type": "code",
   "execution_count": 48,
   "id": "720fc3a9",
   "metadata": {},
   "outputs": [
    {
     "data": {
      "text/plain": [
       "0.9817439476705249"
      ]
     },
     "execution_count": 48,
     "metadata": {},
     "output_type": "execute_result"
    }
   ],
   "source": [
    "bangalore_house_price_prediction_model.score(X_test, y_test)"
   ]
  }
 ],
 "metadata": {
  "kernelspec": {
   "display_name": "course",
   "language": "python",
   "name": "python3"
  },
  "language_info": {
   "codemirror_mode": {
    "name": "ipython",
    "version": 3
   },
   "file_extension": ".py",
   "mimetype": "text/x-python",
   "name": "python",
   "nbconvert_exporter": "python",
   "pygments_lexer": "ipython3",
   "version": "3.11.13"
  }
 },
 "nbformat": 4,
 "nbformat_minor": 5
}
